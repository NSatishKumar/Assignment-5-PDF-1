{
 "cells": [
  {
   "cell_type": "markdown",
   "metadata": {},
   "source": [
    "##            1) How-to-count-distance-to-the-previous-zero  \n",
    "\n",
    "           For each value, count the difference of the distance from the previous zero (or the start  \n",
    "          of the Series, whichever is closer)  and if there are no previous zeros,print the position   \n",
    "\n",
    "             Consider a DataFrame df where there is an integer column {'X':[7, 2, 0, 3, 4, 2, 5, 0, 3, 4]}  \n",
    "\n",
    "            ​The values should therefore be [1, 2, 0, 1, 2, 3, 4, 0, 1, 2]. Make this a new column 'Y'.  \n",
    "\n",
    "           import pandas as pd  \n",
    "\n",
    "          df = pd.DataFrame({'X': [7, 2, 0, 3, 4, 2, 5, 0, 3, 4]}) "
   ]
  },
  {
   "cell_type": "code",
   "execution_count": 1,
   "metadata": {},
   "outputs": [
    {
     "name": "stdout",
     "output_type": "stream",
     "text": [
      "output of differneces  [1, 2, 0, 1, 2, 3, 4, 0, 1, 2]\n",
      "\n",
      "Data Frame:\n"
     ]
    },
    {
     "data": {
      "text/html": [
       "<div>\n",
       "<style scoped>\n",
       "    .dataframe tbody tr th:only-of-type {\n",
       "        vertical-align: middle;\n",
       "    }\n",
       "\n",
       "    .dataframe tbody tr th {\n",
       "        vertical-align: top;\n",
       "    }\n",
       "\n",
       "    .dataframe thead th {\n",
       "        text-align: right;\n",
       "    }\n",
       "</style>\n",
       "<table border=\"1\" class=\"dataframe\">\n",
       "  <thead>\n",
       "    <tr style=\"text-align: right;\">\n",
       "      <th></th>\n",
       "      <th>X</th>\n",
       "      <th>Y</th>\n",
       "    </tr>\n",
       "  </thead>\n",
       "  <tbody>\n",
       "    <tr>\n",
       "      <th>0</th>\n",
       "      <td>7</td>\n",
       "      <td>1</td>\n",
       "    </tr>\n",
       "    <tr>\n",
       "      <th>1</th>\n",
       "      <td>2</td>\n",
       "      <td>2</td>\n",
       "    </tr>\n",
       "    <tr>\n",
       "      <th>2</th>\n",
       "      <td>0</td>\n",
       "      <td>0</td>\n",
       "    </tr>\n",
       "    <tr>\n",
       "      <th>3</th>\n",
       "      <td>3</td>\n",
       "      <td>1</td>\n",
       "    </tr>\n",
       "    <tr>\n",
       "      <th>4</th>\n",
       "      <td>4</td>\n",
       "      <td>2</td>\n",
       "    </tr>\n",
       "    <tr>\n",
       "      <th>5</th>\n",
       "      <td>2</td>\n",
       "      <td>3</td>\n",
       "    </tr>\n",
       "    <tr>\n",
       "      <th>6</th>\n",
       "      <td>5</td>\n",
       "      <td>4</td>\n",
       "    </tr>\n",
       "    <tr>\n",
       "      <th>7</th>\n",
       "      <td>0</td>\n",
       "      <td>0</td>\n",
       "    </tr>\n",
       "    <tr>\n",
       "      <th>8</th>\n",
       "      <td>3</td>\n",
       "      <td>1</td>\n",
       "    </tr>\n",
       "    <tr>\n",
       "      <th>9</th>\n",
       "      <td>4</td>\n",
       "      <td>2</td>\n",
       "    </tr>\n",
       "  </tbody>\n",
       "</table>\n",
       "</div>"
      ],
      "text/plain": [
       "   X  Y\n",
       "0  7  1\n",
       "1  2  2\n",
       "2  0  0\n",
       "3  3  1\n",
       "4  4  2\n",
       "5  2  3\n",
       "6  5  4\n",
       "7  0  0\n",
       "8  3  1\n",
       "9  4  2"
      ]
     },
     "execution_count": 1,
     "metadata": {},
     "output_type": "execute_result"
    }
   ],
   "source": [
    "import pandas as pd\n",
    "df=pd.DataFrame({'X':[7, 2, 0, 3, 4, 2, 5, 0, 3, 4]})      # creating a dataframe\n",
    "output=[]\n",
    "flag=\"none\"                                                # Flag variable to store the index of zero value. default is None\n",
    "for index,val in df.iterrows():                            # Looping through each row in data frame\n",
    "    if(int(val)==0):\n",
    "        flag=index                                         # Flag variable to store the index of zero value\n",
    "        output.append(int(val))                            # storing the value\n",
    "    else:\n",
    "        if(flag==\"none\"):\n",
    "            output.append(int(index)+1)                    # there are no previous zeros, so adding the position\n",
    "        else:\n",
    "            output.append(int(index)-int(flag))            # difference of the distance from the previous zero \n",
    "print(\"output of differneces \",output)\n",
    "df[\"Y\"]=output\n",
    "print(\"\\nData Frame:\")\n",
    "df"
   ]
  },
  {
   "cell_type": "markdown",
   "metadata": {},
   "source": [
    "## 2) Create a  DatetimeIndex that contains each  business day of 2015 and use it to index a         Series of random numbers. "
   ]
  },
  {
   "cell_type": "code",
   "execution_count": 2,
   "metadata": {},
   "outputs": [
    {
     "name": "stdout",
     "output_type": "stream",
     "text": [
      "2015-01-01    9107\n",
      "2015-01-02    3891\n",
      "2015-01-05    9121\n",
      "2015-01-06    6575\n",
      "2015-01-07    3705\n",
      "2015-01-08     984\n",
      "2015-01-09    2867\n",
      "2015-01-12    7502\n",
      "2015-01-13    1491\n",
      "2015-01-14    1219\n",
      "2015-01-15    3083\n",
      "2015-01-16    9798\n",
      "2015-01-19    8953\n",
      "2015-01-20    5564\n",
      "2015-01-21    6414\n",
      "2015-01-22    3951\n",
      "2015-01-23    4166\n",
      "2015-01-26    7622\n",
      "2015-01-27    3381\n",
      "2015-01-28    5444\n",
      "2015-01-29    1868\n",
      "2015-01-30    5806\n",
      "2015-02-02    8664\n",
      "2015-02-03    1183\n",
      "2015-02-04     210\n",
      "2015-02-05    5019\n",
      "2015-02-06    1040\n",
      "2015-02-09    4204\n",
      "2015-02-10     226\n",
      "2015-02-11    6746\n",
      "              ... \n",
      "2015-11-20    4311\n",
      "2015-11-23    1458\n",
      "2015-11-24    4405\n",
      "2015-11-25      71\n",
      "2015-11-26    8305\n",
      "2015-11-27    5225\n",
      "2015-11-30     468\n",
      "2015-12-01    9617\n",
      "2015-12-02    7651\n",
      "2015-12-03    7211\n",
      "2015-12-04    7979\n",
      "2015-12-07    8736\n",
      "2015-12-08    3581\n",
      "2015-12-09     742\n",
      "2015-12-10    3538\n",
      "2015-12-11     759\n",
      "2015-12-14    5449\n",
      "2015-12-15    9729\n",
      "2015-12-16    9389\n",
      "2015-12-17    5631\n",
      "2015-12-18    8550\n",
      "2015-12-21    8843\n",
      "2015-12-22    8864\n",
      "2015-12-23    4948\n",
      "2015-12-24    9125\n",
      "2015-12-25    6992\n",
      "2015-12-28    6029\n",
      "2015-12-29    4764\n",
      "2015-12-30    1865\n",
      "2015-12-31    5965\n",
      "Freq: B, Length: 261, dtype: int64\n"
     ]
    }
   ],
   "source": [
    "import pandas as pd                                                                # Importing pandas and random\n",
    "import random\n",
    "df2=pd.DatetimeIndex(start='01-01-2015',end='12-31-2015',freq='b',dayfirst=True)   # creating datetimeindex\n",
    "randomdata=random.sample(range(10000),len(df2))                                    # generating the random variables\n",
    "s=pd.Series(data=randomdata,index=df2)                                             # Generating the series\n",
    "print(s)"
   ]
  },
  {
   "cell_type": "markdown",
   "metadata": {},
   "source": [
    "## 3) Find the sum of the values in s for every Wednesday  "
   ]
  },
  {
   "cell_type": "code",
   "execution_count": 3,
   "metadata": {
    "scrolled": false
   },
   "outputs": [
    {
     "data": {
      "text/plain": [
       "232118"
      ]
     },
     "execution_count": 3,
     "metadata": {},
     "output_type": "execute_result"
    }
   ],
   "source": [
    "s[df2.dayofweek==2].sum()       # calculating the sum of values using the dayofweek method"
   ]
  },
  {
   "cell_type": "code",
   "execution_count": 4,
   "metadata": {},
   "outputs": [
    {
     "data": {
      "text/plain": [
       "232118"
      ]
     },
     "execution_count": 4,
     "metadata": {},
     "output_type": "execute_result"
    }
   ],
   "source": [
    "s[df2.weekday == 2].sum()       # calculating the sum of values using the Weekday method"
   ]
  },
  {
   "cell_type": "markdown",
   "metadata": {},
   "source": [
    "## 4) Average For each calendar month "
   ]
  },
  {
   "cell_type": "code",
   "execution_count": 5,
   "metadata": {},
   "outputs": [
    {
     "data": {
      "text/plain": [
       "2015-01-31    5114.181818\n",
       "2015-02-28    4827.700000\n",
       "2015-03-31    5488.636364\n",
       "2015-04-30    4874.136364\n",
       "2015-05-31    4229.571429\n",
       "2015-06-30    5222.318182\n",
       "2015-07-31    5003.956522\n",
       "2015-08-31    4945.619048\n",
       "2015-09-30    5966.045455\n",
       "2015-10-31    5131.454545\n",
       "2015-11-30    3918.666667\n",
       "2015-12-31    6345.956522\n",
       "Freq: M, dtype: float64"
      ]
     },
     "execution_count": 5,
     "metadata": {},
     "output_type": "execute_result"
    }
   ],
   "source": [
    " s.resample('M').mean()     # calculating the average of every month"
   ]
  },
  {
   "cell_type": "markdown",
   "metadata": {},
   "source": [
    "## 5)  For each group of four consecutive calendar  months  in s, find the date on which the  highest value occurred."
   ]
  },
  {
   "cell_type": "code",
   "execution_count": 6,
   "metadata": {
    "scrolled": false
   },
   "outputs": [
    {
     "name": "stderr",
     "output_type": "stream",
     "text": [
      "C:\\Users\\Satish\\Anaconda3\\lib\\site-packages\\ipykernel_launcher.py:1: FutureWarning: pd.TimeGrouper is deprecated and will be removed; Please use pd.Grouper(freq=...)\n",
      "  \"\"\"Entry point for launching an IPython kernel.\n"
     ]
    },
    {
     "data": {
      "text/plain": [
       "2015-01-31   2015-01-16\n",
       "2015-05-31   2015-02-13\n",
       "2015-09-30   2015-09-30\n",
       "2016-01-31   2015-10-06\n",
       "dtype: datetime64[ns]"
      ]
     },
     "execution_count": 6,
     "metadata": {},
     "output_type": "execute_result"
    }
   ],
   "source": [
    "s.groupby(pd.TimeGrouper('4M')).idxmax()  # Grouping by 4 consecutive months and displaying the date of highest value"
   ]
  },
  {
   "cell_type": "code",
   "execution_count": 7,
   "metadata": {},
   "outputs": [
    {
     "data": {
      "text/plain": [
       "2015-01-31   2015-01-16\n",
       "2015-05-31   2015-02-13\n",
       "2015-09-30   2015-09-30\n",
       "2016-01-31   2015-10-06\n",
       "dtype: datetime64[ns]"
      ]
     },
     "execution_count": 7,
     "metadata": {},
     "output_type": "execute_result"
    }
   ],
   "source": [
    "s.groupby(pd.Grouper(freq='4M')).idxmax()  # Grouping by 4 consecutive months and displaying the date of highest value"
   ]
  },
  {
   "cell_type": "code",
   "execution_count": null,
   "metadata": {},
   "outputs": [],
   "source": []
  }
 ],
 "metadata": {
  "kernelspec": {
   "display_name": "Python 3",
   "language": "python",
   "name": "python3"
  },
  "language_info": {
   "codemirror_mode": {
    "name": "ipython",
    "version": 3
   },
   "file_extension": ".py",
   "mimetype": "text/x-python",
   "name": "python",
   "nbconvert_exporter": "python",
   "pygments_lexer": "ipython3",
   "version": "3.7.0"
  }
 },
 "nbformat": 4,
 "nbformat_minor": 2
}
